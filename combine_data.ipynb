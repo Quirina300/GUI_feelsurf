{
 "cells": [
  {
   "cell_type": "code",
   "execution_count": 5,
   "metadata": {},
   "outputs": [],
   "source": [
    "import pandas as pd\n",
    "import os"
   ]
  },
  {
   "cell_type": "code",
   "execution_count": 13,
   "metadata": {},
   "outputs": [
    {
     "name": "stdout",
     "output_type": "stream",
     "text": [
      "    Participant Condition    Texture  Ratings\n",
      "0            10         0     Carpet        1\n",
      "1            10         0       Wood        2\n",
      "2            10         0       Wood        2\n",
      "3            10         0     Carpet        3\n",
      "4            10         0     Carpet        3\n",
      "..          ...       ...        ...      ...\n",
      "331           9         1     Carpet        3\n",
      "332           9         1       Wood        6\n",
      "333           9         1       Wood        3\n",
      "334           9         1       Wood        3\n",
      "335           9         1  Sandpaper        3\n",
      "\n",
      "[336 rows x 4 columns]\n"
     ]
    }
   ],
   "source": [
    "directory = './data/' \n",
    "\n",
    "all_data_df = pd.DataFrame()\n",
    "\n",
    "for filename in os.listdir(directory):\n",
    "    if filename.endswith('.csv'):\n",
    "        # Extract participant and condition number from filename\n",
    "        participant, condition = filename.split('.')[0].split('_')\n",
    "\n",
    "        # Load csv as pandas df        \n",
    "        df = pd.read_csv(os.path.join(directory, filename), names=['Texture', 'Ratings'])\n",
    "        \n",
    "        # Add columns with participant and condition values\n",
    "        df['Participant'] = participant\n",
    "        df['Condition'] = condition\n",
    "        \n",
    "        # Append to dataframe\n",
    "        all_data_df = pd.concat([all_data_df, df], ignore_index=True)\n",
    "\n",
    "# Reorder columns so that participant and condition are on the left\n",
    "all_data_df = all_data_df[['Participant', 'Condition'] + list(df.columns[:-2])]\n",
    "\n",
    "# Save as csv file\n",
    "all_data_df.to_csv('all_data.csv', index=False)\n",
    "\n",
    "print(all_data_df)\n"
   ]
  },
  {
   "cell_type": "code",
   "execution_count": null,
   "metadata": {},
   "outputs": [],
   "source": []
  }
 ],
 "metadata": {
  "kernelspec": {
   "display_name": "Python 3",
   "language": "python",
   "name": "python3"
  },
  "language_info": {
   "codemirror_mode": {
    "name": "ipython",
    "version": 3
   },
   "file_extension": ".py",
   "mimetype": "text/x-python",
   "name": "python",
   "nbconvert_exporter": "python",
   "pygments_lexer": "ipython3",
   "version": "3.11.4"
  }
 },
 "nbformat": 4,
 "nbformat_minor": 2
}
